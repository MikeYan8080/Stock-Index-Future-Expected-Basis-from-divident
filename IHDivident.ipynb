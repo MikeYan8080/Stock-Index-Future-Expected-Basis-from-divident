{
 "cells": [
  {
   "cell_type": "code",
   "execution_count": 1,
   "metadata": {},
   "outputs": [],
   "source": [
    "import pandas as pd \n",
    "import numpy as np\n",
    "from tqdm import trange\n",
    "from WindPy import w\n",
    "import datetime"
   ]
  },
  {
   "cell_type": "code",
   "execution_count": 2,
   "metadata": {},
   "outputs": [],
   "source": [
    "# 获取期货交割日\n",
    "strikedate = pd.read_excel('data/上证50分红.xlsx', sheet_name='交割日')['交割日期']"
   ]
  },
  {
   "cell_type": "code",
   "execution_count": 3,
   "metadata": {},
   "outputs": [],
   "source": [
    "# 合并每年的分红数据\n",
    "div = []\n",
    "for x in [2019,2020,2021,2022]:\n",
    "    div.append(pd.read_excel('data/上证50分红.xlsx', sheet_name=f'{x}分红预案'))\n",
    "divs = pd.concat(div, axis=0, ignore_index=True)\n",
    "divs['除权除息日'] = divs['除权除息日'].map(lambda x: pd.to_datetime(x))\n",
    "divs = divs.sort_values(by='除权除息日')\n",
    "divs.reset_index(drop=True, inplace=True)\n",
    "# divs['分红'] = divs['现金分红'].map(lambda x: 0 if x.startswith('-') else x)\n",
    "divs['分红'] = divs['现金分红'].map(lambda x: float(x[:-3]) if (isinstance(x, str)and not x.startswith('-')) else 0)\n",
    "# print(divs)\n"
   ]
  },
  {
   "cell_type": "code",
   "execution_count": 4,
   "metadata": {},
   "outputs": [
    {
     "name": "stderr",
     "output_type": "stream",
     "text": [
      "100%|█████████████████████████████████████████████████████████████████████████████████| 47/47 [00:00<00:00, 903.65it/s]"
     ]
    },
    {
     "name": "stdout",
     "output_type": "stream",
     "text": [
      "            代码    简称      除权除息日     现金分红    分红      对应交割日\n",
      "0    600276.SH  恒瑞医药 2019-03-28  0.22元/股  0.22 2019-04-19\n",
      "1    600887.SH  伊利股份 2019-04-08  0.70元/股  0.70 2019-04-19\n",
      "2    603288.SH  海天味业 2019-05-07  0.98元/股  0.98 2019-05-17\n",
      "3    600588.SH  用友网络 2019-05-07  0.25元/股  0.25 2019-05-17\n",
      "4    600570.SH  恒生电子 2019-05-15  0.32元/股  0.32 2019-05-17\n",
      "..         ...   ...        ...      ...   ...        ...\n",
      "174  600893.SH  航发动力 2022-06-23  0.14元/股  0.14 2022-07-15\n",
      "175  600111.SH  北方稀土 2022-06-28  0.45元/股  0.45 2022-07-15\n",
      "176  601857.SH  中国石油 2022-06-28  0.10元/股  0.10 2022-07-15\n",
      "177  600010.SH  包钢股份 2022-06-29  0.02元/股  0.02 2022-07-15\n",
      "178  601628.SH  中国人寿 2022-07-14  0.65元/股  0.65 2022-07-15\n",
      "\n",
      "[179 rows x 6 columns]\n"
     ]
    },
    {
     "name": "stderr",
     "output_type": "stream",
     "text": [
      "\n"
     ]
    }
   ],
   "source": [
    "# 确定每笔分红对应的期货交割日\n",
    "divs['对应交割日'] = divs['除权除息日']\n",
    "row = 1\n",
    "totalrow = len(divs)\n",
    "\n",
    "if divs.loc[0, '除权除息日'] <= strikedate[0]:\n",
    "    divs.loc[0, '对应交割日'] = strikedate[0]\n",
    "for x in trange(len(strikedate)-1):\n",
    "    start = strikedate[x]\n",
    "    end = strikedate[x+1]\n",
    "    for i in range(row, totalrow):\n",
    "        s = divs.loc[i]\n",
    "        if s['除权除息日'] > start and s['除权除息日'] <= end:\n",
    "            divs.loc[i, '对应交割日'] = end\n",
    "\n",
    "        elif s['除权除息日'] > end:\n",
    "            row = max(i-1,0)\n",
    "            break\n",
    "print(divs)"
   ]
  },
  {
   "cell_type": "code",
   "execution_count": 5,
   "metadata": {},
   "outputs": [],
   "source": [
    "# divs.to_excel('分红对应交割日.xlsx')"
   ]
  },
  {
   "cell_type": "code",
   "execution_count": 5,
   "metadata": {},
   "outputs": [],
   "source": [
    "weight = {} # 导入不同时间段的权重数据\n",
    "for i in [2019, 2020, 2021, 2022]:\n",
    "    for j in [1,2]:\n",
    "#         if (i,j) == (2022,2):\n",
    "#             break\n",
    "        weight[(i,j)] = pd.read_excel(f'data/ih{i}{j}.xlsx')[['代码', '权重']]\n",
    "        weight[(i,j)]['权重'] = weight[(i,j)]['权重']/100\n",
    "# print(weight[(2019,1)])\n",
    "# 定义权重选择函数\n",
    "def chooseweight(date, weight=weight):\n",
    "    datestr = date.strftime('%Y%m%d')\n",
    "    year = int(datestr[:4])\n",
    "    mon = int(datestr[4:6])\n",
    "    if mon <= 6:\n",
    "        half = 1\n",
    "    else:\n",
    "        half = 2\n",
    "    return weight[(year, half)]"
   ]
  },
  {
   "cell_type": "code",
   "execution_count": 6,
   "metadata": {},
   "outputs": [],
   "source": [
    "nowtime = datetime.datetime.today()\n",
    "for x in range(len(strikedate)-1):\n",
    "    start = strikedate[x]\n",
    "    end = strikedate[x+1]\n",
    "    if nowtime > start and nowtime <= end:\n",
    "        yearmonth = end\n",
    "        break\n",
    "numofmonth = (yearmonth.year - 2019)*12 + yearmonth.month"
   ]
  },
  {
   "cell_type": "code",
   "execution_count": 7,
   "metadata": {},
   "outputs": [
    {
     "name": "stdout",
     "output_type": "stream",
     "text": [
      "Welcome to use Wind Quant API for Python (WindPy)!\n",
      "\n",
      "COPYRIGHT (C) 2020 WIND INFORMATION CO., LTD. ALL RIGHTS RESERVED.\n",
      "IN NO CIRCUMSTANCE SHALL WIND BE RESPONSIBLE FOR ANY DAMAGES OR LOSSES CAUSED BY USING WIND QUANT API FOR Python.\n"
     ]
    },
    {
     "name": "stderr",
     "output_type": "stream",
     "text": [
      "  0%|                                                                                           | 0/41 [00:00<?, ?it/s]D:\\Anaconda3\\lib\\site-packages\\pandas\\util\\_decorators.py:311: SettingWithCopyWarning: \n",
      "A value is trying to be set on a copy of a slice from a DataFrame\n",
      "\n",
      "See the caveats in the documentation: https://pandas.pydata.org/pandas-docs/stable/user_guide/indexing.html#returning-a-view-versus-a-copy\n",
      "  return func(*args, **kwargs)\n",
      "C:\\Users\\25286\\AppData\\Local\\Temp/ipykernel_2068/3175156877.py:22: SettingWithCopyWarning: \n",
      "A value is trying to be set on a copy of a slice from a DataFrame.\n",
      "Try using .loc[row_indexer,col_indexer] = value instead\n",
      "\n",
      "See the caveats in the documentation: https://pandas.pydata.org/pandas-docs/stable/user_guide/indexing.html#returning-a-view-versus-a-copy\n",
      "  stocks['上期收盘价'] = temp['收盘价']\n",
      "100%|██████████████████████████████████████████████████████████████████████████████████| 41/41 [00:11<00:00,  3.57it/s]\n"
     ]
    },
    {
     "name": "stdout",
     "output_type": "stream",
     "text": [
      "            代码    简称      除权除息日     现金分红    分红      对应交割日  上期收盘价       权重\n",
      "0    600276.SH  恒瑞医药 2019-03-28  0.22元/股  0.22 2019-04-19  64.45  0.02800\n",
      "1    600887.SH  伊利股份 2019-04-08  0.70元/股  0.70 2019-04-19  31.14  0.03155\n",
      "2    603288.SH  海天味业 2019-05-07  0.98元/股  0.98 2019-05-17  95.00      NaN\n",
      "3    600588.SH  用友网络 2019-05-07  0.25元/股  0.25 2019-05-17  22.80      NaN\n",
      "4    600570.SH  恒生电子 2019-05-15  0.32元/股  0.32 2019-05-17  62.76      NaN\n",
      "..         ...   ...        ...      ...   ...        ...    ...      ...\n",
      "174  600893.SH  航发动力 2022-06-23  0.14元/股  0.14 2022-07-15  41.42  0.00764\n",
      "175  600111.SH  北方稀土 2022-06-28  0.45元/股  0.45 2022-07-15  40.56      NaN\n",
      "176  601857.SH  中国石油 2022-06-28  0.10元/股  0.10 2022-07-15   5.45  0.00797\n",
      "177  600010.SH  包钢股份 2022-06-29  0.02元/股  0.02 2022-07-15   2.10      NaN\n",
      "178  601628.SH  中国人寿 2022-07-14  0.65元/股  0.65 2022-07-15  28.88  0.00600\n",
      "\n",
      "[179 rows x 8 columns]\n"
     ]
    }
   ],
   "source": [
    "# 获取每只股票在上一个月的收盘价， 拼接上权重\n",
    "w.start()\n",
    "table = []\n",
    "## 这里需要注意月数numfmonth\n",
    "\n",
    "for x in trange(2, numofmonth):\n",
    "    stockpricedate = strikedate[x-1]\n",
    "    maturedate0 = strikedate[x]\n",
    "    maturedate = maturedate0.strftime('%Y%m%d')\n",
    "    stocks = divs[divs['对应交割日'] == maturedate]\n",
    "    if len(stocks) == 0:\n",
    "        continue\n",
    "    weight = chooseweight(maturedate0)\n",
    "    stocks.drop_duplicates(subset=['代码'], inplace=True)\n",
    "    stocks.reset_index(drop=True, inplace=True)\n",
    "    codes = ','.join(stocks['代码'])\n",
    "    data = w.wss(codes, \"close\",f\"tradeDate={maturedate};priceAdj=U;cycle=D\")\n",
    "#     print(data)\n",
    "    temp = pd.DataFrame(data.Data).T\n",
    "    temp.columns = ['收盘价']\n",
    "#     temp.index = stocks['代码'] \n",
    "    stocks['上期收盘价'] = temp['收盘价']\n",
    "    stocks = stocks.merge(weight, on='代码', how='left')\n",
    "    table.append(stocks)\n",
    "result1 = pd.concat(table, ignore_index=True)\n",
    "w.close()\n",
    "print(result1)\n"
   ]
  },
  {
   "cell_type": "code",
   "execution_count": 9,
   "metadata": {},
   "outputs": [],
   "source": [
    "# result1.to_excel('分红占比.xlsx')"
   ]
  },
  {
   "cell_type": "code",
   "execution_count": 8,
   "metadata": {},
   "outputs": [],
   "source": [
    "# 计算加权后影响\n",
    "result1['分红占股价'] = result1['分红'] / result1['上期收盘价']\n",
    "result1['权重*分红占比'] = result1['权重'] * result1['分红占股价']\n",
    "# print(result1.head())"
   ]
  },
  {
   "cell_type": "code",
   "execution_count": 9,
   "metadata": {},
   "outputs": [],
   "source": [
    "#选出当月还没实施分红的\n",
    "already = result1[result1['除权除息日']>=nowtime]\n",
    "result1 = result1.drop(already.index)\n",
    "# print(result1)"
   ]
  },
  {
   "cell_type": "code",
   "execution_count": 10,
   "metadata": {},
   "outputs": [
    {
     "name": "stderr",
     "output_type": "stream",
     "text": [
      "C:\\Users\\25286\\AppData\\Local\\Temp/ipykernel_2068/1183847253.py:2: FutureWarning: Indexing with multiple keys (implicitly converted to a tuple of keys) will be deprecated, use a list instead.\n",
      "  result2 = result1.groupby(by='对应交割日')['简称', '权重*分红占比'].agg({'简称': np.count_nonzero, '权重*分红占比': np.sum})\n"
     ]
    }
   ],
   "source": [
    "# 汇总到每个交割日\n",
    "result2 = result1.groupby(by='对应交割日')['简称', '权重*分红占比'].agg({'简称': np.count_nonzero, '权重*分红占比': np.sum})\n",
    "result2.columns = ['分红股票数', '分红影响']\n",
    "result2['分红影响%'] = result2['分红影响'] * 100"
   ]
  },
  {
   "cell_type": "code",
   "execution_count": 13,
   "metadata": {},
   "outputs": [],
   "source": [
    "# 获取价格日上证50收盘价\n",
    "hsclose = pd.read_excel('data/上证50分红.xlsx', sheet_name='交割日', index_col='交割日期')\n",
    "result3 = pd.merge(result2, hsclose,how='left', left_index=True, right_index=True)\n",
    "result3.pop('序号')\n",
    "result3['上证50上期收盘价'] = result3['上证50收盘价'].shift(1)\n",
    "result3['预计基差影响'] = result3['分红影响'] * result3['上证50上期收盘价']"
   ]
  },
  {
   "cell_type": "code",
   "execution_count": 14,
   "metadata": {},
   "outputs": [],
   "source": [
    "result3.drop(result3[result3['分红影响']==0].index, inplace=True)\n",
    "result3.to_excel(f'分红对期货基差的影响估计if{datetime.date.today()}.xlsx') \n",
    "result3.reset_index(inplace=True)\n",
    "result3['年月'] = result3['对应交割日'].map(lambda x: int(x.strftime('%Y%m')))\n",
    "result3.set_index(keys=['年月'], drop=False, inplace=True)"
   ]
  },
  {
   "cell_type": "code",
   "execution_count": 15,
   "metadata": {},
   "outputs": [],
   "source": [
    "for x in range(2019,2023):\n",
    "    for y in range(12):\n",
    "        yearmonths = x*100 + y+1\n",
    "        try:\n",
    "            result3.loc[yearmonths,  '预计基差影响']\n",
    "        except KeyError:\n",
    "            result3.loc[yearmonths,  '预计基差影响'] = 0\n",
    "result3.fillna(0, inplace=True)"
   ]
  },
  {
   "cell_type": "code",
   "execution_count": 16,
   "metadata": {},
   "outputs": [],
   "source": [
    "# print(result3)\n",
    "# print(now)\n",
    "# print(type(now))\n",
    "# np.max(result3.index)"
   ]
  },
  {
   "cell_type": "code",
   "execution_count": 17,
   "metadata": {},
   "outputs": [],
   "source": [
    "## 设置当前月份\n",
    "month = yearmonth.month\n",
    "now = int(yearmonth.strftime('%Y%m'))\n",
    "close = result3.loc[np.max(result3.index), '上证50收盘价']\n",
    "def biasestimate(mon):\n",
    "    bias = 0\n",
    "    for x in range(mon):\n",
    "        if month+x+1 <= 12:\n",
    "            bias += (result3.loc[now-200+x+1,  '预计基差影响'] + result3.loc[now-100+x+1,  '预计基差影响'])/2\n",
    "        else:\n",
    "            nmonth = month+x+1-12\n",
    "            if (now-100-month+nmonth) in result3.index.values:\n",
    "                a = result3.loc[now-100-month+nmonth,  '预计基差影响']\n",
    "            else:\n",
    "                a = 0\n",
    "            if (now-month+nmonth) in result3.index.values:\n",
    "                b = result3.loc[now-month+nmonth,  '预计基差影响']\n",
    "            else:\n",
    "                b = 0        \n",
    "            bias += (a + b)/2\n",
    "    return bias \n",
    "\n",
    "    \n",
    "if now <= np.max(result3.index):\n",
    "    nowbias = ((result3.loc[now-200,  '预计基差影响'] +\n",
    "            result3.loc[now-100,  '预计基差影响'])/2 - result3.loc[now,  '预计基差影响']) # 按照历史估计本月分红\n",
    "else:\n",
    "    nowbias = (result3.loc[now-200,  '预计基差影响'] + result3.loc[now-100,  '预计基差影响'])/2\n",
    "\n",
    "alreadybias = np.sum(already['权重*分红占比']) * close # 本月已经公布还没实施的分红\n",
    "\n",
    "nowbias2 = max([alreadybias, nowbias]) # 本月预计分红\n",
    "\n",
    "    \n",
    "nextbias = biasestimate(1) + nowbias2\n",
    "nextq1 = biasestimate(3 - (month+1)%3+1) + nowbias2\n",
    "nextq2 = biasestimate(6 - (month+1)%3+1) + nowbias2\n",
    "biases = [nowbias2, nextbias, nextq1, nextq2]"
   ]
  },
  {
   "cell_type": "code",
   "execution_count": 18,
   "metadata": {},
   "outputs": [
    {
     "name": "stdout",
     "output_type": "stream",
     "text": [
      "             预期基差\n",
      "IH2207  18.512923\n",
      "IH2208  28.488494\n",
      "IH2209  31.491071\n",
      "IH2212  35.036405\n"
     ]
    }
   ],
   "source": [
    "# 期货名称\n",
    "from dateutil.relativedelta import relativedelta as drr\n",
    "\n",
    "first = 'IH'+ yearmonth.strftime('%y%m')\n",
    "second = 'IH'+ (yearmonth + drr(months = 1)).strftime('%y%m')\n",
    "third = 'IH' + (yearmonth + drr(months = (4 - (yearmonth.month+1)%3 ))).strftime('%y%m')\n",
    "fourth = 'IH' + (yearmonth + drr(months= (7- (yearmonth.month+1)%3 ))).strftime('%y%m')\n",
    "\n",
    "result4 = pd.DataFrame(biases, index=[first, second, third, fourth], columns=['预期基差'])\n",
    "print(result4)"
   ]
  },
  {
   "cell_type": "code",
   "execution_count": 19,
   "metadata": {},
   "outputs": [
    {
     "name": "stdout",
     "output_type": "stream",
     "text": [
      "0.0\n",
      "18.51292293163988\n"
     ]
    }
   ],
   "source": [
    "print(alreadybias)\n",
    "print(nowbias)"
   ]
  },
  {
   "cell_type": "code",
   "execution_count": null,
   "metadata": {},
   "outputs": [],
   "source": []
  },
  {
   "cell_type": "code",
   "execution_count": null,
   "metadata": {},
   "outputs": [],
   "source": []
  }
 ],
 "metadata": {
  "kernelspec": {
   "display_name": "Python 3 (ipykernel)",
   "language": "python",
   "name": "python3"
  },
  "language_info": {
   "codemirror_mode": {
    "name": "ipython",
    "version": 3
   },
   "file_extension": ".py",
   "mimetype": "text/x-python",
   "name": "python",
   "nbconvert_exporter": "python",
   "pygments_lexer": "ipython3",
   "version": "3.9.7"
  },
  "toc": {
   "base_numbering": 1,
   "nav_menu": {},
   "number_sections": true,
   "sideBar": true,
   "skip_h1_title": false,
   "title_cell": "Table of Contents",
   "title_sidebar": "Contents",
   "toc_cell": false,
   "toc_position": {},
   "toc_section_display": true,
   "toc_window_display": false
  }
 },
 "nbformat": 4,
 "nbformat_minor": 2
}
